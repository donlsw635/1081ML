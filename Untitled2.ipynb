{
 "cells": [
  {
   "cell_type": "code",
   "execution_count": 10,
   "metadata": {},
   "outputs": [
    {
     "ename": "SyntaxError",
     "evalue": "invalid syntax (<ipython-input-10-bf419a42acbe>, line 26)",
     "output_type": "error",
     "traceback": [
      "\u001b[1;36m  File \u001b[1;32m\"<ipython-input-10-bf419a42acbe>\"\u001b[1;36m, line \u001b[1;32m26\u001b[0m\n\u001b[1;33m    message.setText(\"The perimeter is:\"format(perim))\u001b[0m\n\u001b[1;37m                                            ^\u001b[0m\n\u001b[1;31mSyntaxError\u001b[0m\u001b[1;31m:\u001b[0m invalid syntax\n"
     ]
    }
   ],
   "source": [
    "import math\n",
    "from graphics import *\n",
    "\n",
    "def square(x):\n",
    "    return x*x\n",
    "#定義函式利用square()來計算兩點間的距離\n",
    "def distance(p1,p2):\n",
    "    dist=math.sqrt(square(p2.getX()-p1.getX())+square(p2.getY()-p1.getY()))\n",
    "    return dist\n",
    "def main():\n",
    "    win = GraphWin(\"Draw a Triangle\")\n",
    "    win.setCoords(0.0,0.0,10.0,10.0)\n",
    "    message=Text(Point(5,0.5),\"Click on three points\")\n",
    "    message.draw(win)\n",
    "    p1 = win.getMouse()\n",
    "    p1.draw(win)\n",
    "    p2 = win.getMouse()\n",
    "    p2.draw(win)\n",
    "    p3 = win.getMouse()\n",
    "    p3.draw(win)\n",
    "    triangle=Polygon(p1,p2,p3)\n",
    "    triangle.setFill(\"peachpuff\")\n",
    "    triangle.setOutline(\"cyan\")\n",
    "    triangle.draw(win)\n",
    "    perim=distance(p1,p2)+distance(p1,p3)+distance(p2,p3)\n",
    "    message.setText(\"The perimeter is:(0:0.2f)\".format(perim))\n",
    "    \n",
    "    win.getMouse() # Pause to view result\n",
    "    win.close()    # Close window when done\n",
    "\n",
    "main()"
   ]
  },
  {
   "cell_type": "code",
   "execution_count": null,
   "metadata": {},
   "outputs": [],
   "source": []
  }
 ],
 "metadata": {
  "kernelspec": {
   "display_name": "Python 3",
   "language": "python",
   "name": "python3"
  },
  "language_info": {
   "codemirror_mode": {
    "name": "ipython",
    "version": 3
   },
   "file_extension": ".py",
   "mimetype": "text/x-python",
   "name": "python",
   "nbconvert_exporter": "python",
   "pygments_lexer": "ipython3",
   "version": "3.7.3"
  }
 },
 "nbformat": 4,
 "nbformat_minor": 2
}
