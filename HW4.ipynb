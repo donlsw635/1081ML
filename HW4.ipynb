{
 "cells": [
  {
   "cell_type": "markdown",
   "metadata": {},
   "source": [
    "# Homework4"
   ]
  },
  {
   "cell_type": "markdown",
   "metadata": {},
   "source": [
    "1. 寫一個程式能大致畫一個人臉!"
   ]
  },
  {
   "cell_type": "code",
   "execution_count": 23,
   "metadata": {},
   "outputs": [],
   "source": [
    "from graphics import *\n",
    "\n",
    "def main():\n",
    "    win = GraphWin(\"My Circle\", 200, 200)\n",
    "    a = Circle(Point(65,60), 50)\n",
    "    b = Circle(Point(80,50), 5)\n",
    "    b.setFill('red')\n",
    "    c = Circle(Point(50,50), 5)\n",
    "    c.setFill('red') \n",
    "    d = Oval(Point(50,80),Point(80,90))\n",
    "    d.setFill('yellow')\n",
    "    e = Line(Point(65,60),Point(62,68)) \n",
    "    f = Line(Point(62,68),Point(67,70))\n",
    "    g = Line(Point(75,43),Point(90,40))\n",
    "    h = Line(Point(40,40),Point(55,43))\n",
    "    \n",
    "    a.draw(win)\n",
    "    b.draw(win)\n",
    "    c.draw(win)\n",
    "    d.draw(win)\n",
    "    e.draw(win)\n",
    "    f.draw(win)\n",
    "    g.draw(win)\n",
    "    h.draw(win)\n",
    "           \n",
    "    win.getMouse() # Pause to view result\n",
    "    win.close()    # Close window when done\n",
    "\n",
    "main()"
   ]
  },
  {
   "cell_type": "markdown",
   "metadata": {},
   "source": [
    "2. 寫一程式，讓使用者在視窗中利用滑鼠左鍵點擊 2 點，依照該 2 個對角點繪製長方形，並在視窗中顯示該長方形的邊界長及面積。"
   ]
  },
  {
   "cell_type": "code",
   "execution_count": null,
   "metadata": {},
   "outputs": [],
   "source": []
  },
  {
   "cell_type": "markdown",
   "metadata": {},
   "source": [
    "3. 寫一程式，讓使用者在視窗中利用滑鼠左鍵點擊 3 點，依照該 3 點繪製三角形，並在視窗中顯示該三角形的邊界長及面積。"
   ]
  },
  {
   "cell_type": "code",
   "execution_count": 22,
   "metadata": {},
   "outputs": [],
   "source": [
    "import math\n",
    "from graphics import *\n",
    "\n",
    "def square(x):\n",
    "    return x*x\n",
    "#定義函式利用square()來計算兩點間的距離\n",
    "def distance(p1,p2):\n",
    "    dist=math.sqrt(square(p2.getX()-p1.getX())+square(p2.getY()-p1.getY()))\n",
    "    return dist\n",
    "def main():\n",
    "    win = GraphWin(\"Draw a Triangle\")\n",
    "    win.setCoords(0.0,0.0,10.0,10.0)\n",
    "    message=Text(Point(5,0.5),\"Click on three points\")\n",
    "    message.draw(win)\n",
    "    p1 = win.getMouse()\n",
    "    p1.draw(win)\n",
    "    p2 = win.getMouse()\n",
    "    p2.draw(win)\n",
    "    p3 = win.getMouse()\n",
    "    p3.draw(win)\n",
    "    triangle=Polygon(p1,p2,p3)\n",
    "    triangle.setFill(\"peachpuff\")\n",
    "    triangle.setOutline(\"cyan\")\n",
    "    triangle.draw(win)\n",
    "    perim=distance(p1,p2)+distance(p1,p3)+distance(p2,p3)\n",
    "    message.setText(\"The perimeter is:(0:0.2f)\".format(perim))\n",
    "    \n",
    "    win.getMouse() # Pause to view result\n",
    "    win.close()    # Close window when done\n",
    "\n",
    "main()"
   ]
  },
  {
   "cell_type": "markdown",
   "metadata": {},
   "source": [
    "4. 撰寫以下 2 個函式的定義：\n",
    "\n",
    "sumN(n)：回覆前 n 個自然數的總和\n",
    "\n",
    "sumNCubes(n)：回覆前 n 個自然數的 3 次方總和"
   ]
  },
  {
   "cell_type": "code",
   "execution_count": null,
   "metadata": {},
   "outputs": [],
   "source": []
  },
  {
   "cell_type": "markdown",
   "metadata": {},
   "source": [
    "5. 撰寫一函式，功能如下：\n",
    "toNumbers(strList)：strList 是一個字串的串列，內含數值字串，例如:[\"32\", \"21\", \"56\"]，將串列中的每個項目改為數值!"
   ]
  },
  {
   "cell_type": "code",
   "execution_count": null,
   "metadata": {},
   "outputs": [],
   "source": []
  },
  {
   "cell_type": "markdown",
   "metadata": {},
   "source": [
    "6. 撰寫一函式，功能如下：\n",
    "drawFace(center, size, win)：center 是一個點(Point)，size 是一個整數，win 是一個 GraphWin，在給定 size 後在 win 裡畫一張臉。你的函式可以畫一張簡單的笑(哭)臉，寫一個主程式能夠使用不同的參數來多次呼叫 drawFace()，以畫出許多笑臉。"
   ]
  },
  {
   "cell_type": "code",
   "execution_count": null,
   "metadata": {},
   "outputs": [],
   "source": []
  }
 ],
 "metadata": {
  "kernelspec": {
   "display_name": "Python 3",
   "language": "python",
   "name": "python3"
  },
  "language_info": {
   "codemirror_mode": {
    "name": "ipython",
    "version": 3
   },
   "file_extension": ".py",
   "mimetype": "text/x-python",
   "name": "python",
   "nbconvert_exporter": "python",
   "pygments_lexer": "ipython3",
   "version": "3.7.3"
  }
 },
 "nbformat": 4,
 "nbformat_minor": 2
}
